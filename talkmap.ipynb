{
 "cells": [
  {
   "cell_type": "markdown",
   "metadata": {},
   "source": [
    "# Leaflet cluster map of talk locations\n",
    "\n",
    "Run this from the _talks/ directory, which contains .md files of all your talks. This scrapes the location YAML field from each .md file, geolocates it with geopy/Nominatim, and uses the getorg library to output data, HTML, and Javascript for a standalone cluster map."
   ]
  },
  {
   "cell_type": "code",
   "execution_count": 4,
   "metadata": {
    "collapsed": false,
    "ExecuteTime": {
     "end_time": "2023-08-22T11:04:33.982137600Z",
     "start_time": "2023-08-22T11:04:31.479395500Z"
    }
   },
   "outputs": [
    {
     "name": "stdout",
     "output_type": "stream",
     "text": [
      "Requirement already satisfied: getorg in c:\\users\\fabio\\workspace\\fhellmann.github.io\\venv\\lib\\site-packages (0.3.1)\n",
      "Requirement already satisfied: geopy in c:\\users\\fabio\\workspace\\fhellmann.github.io\\venv\\lib\\site-packages (from getorg) (2.3.0)\n",
      "Requirement already satisfied: pygithub in c:\\users\\fabio\\workspace\\fhellmann.github.io\\venv\\lib\\site-packages (from getorg) (1.59.1)\n",
      "Requirement already satisfied: retrying in c:\\users\\fabio\\workspace\\fhellmann.github.io\\venv\\lib\\site-packages (from getorg) (1.3.4)\n",
      "Requirement already satisfied: geographiclib<3,>=1.52 in c:\\users\\fabio\\workspace\\fhellmann.github.io\\venv\\lib\\site-packages (from geopy->getorg) (2.0)\n",
      "Requirement already satisfied: requests>=2.14.0 in c:\\users\\fabio\\workspace\\fhellmann.github.io\\venv\\lib\\site-packages (from pygithub->getorg) (2.31.0)\n",
      "Requirement already satisfied: pyjwt[crypto]>=2.4.0 in c:\\users\\fabio\\workspace\\fhellmann.github.io\\venv\\lib\\site-packages (from pygithub->getorg) (2.8.0)\n",
      "Requirement already satisfied: deprecated in c:\\users\\fabio\\workspace\\fhellmann.github.io\\venv\\lib\\site-packages (from pygithub->getorg) (1.2.14)\n",
      "Requirement already satisfied: pynacl>=1.4.0 in c:\\users\\fabio\\workspace\\fhellmann.github.io\\venv\\lib\\site-packages (from pygithub->getorg) (1.5.0)\n",
      "Requirement already satisfied: six>=1.7.0 in c:\\users\\fabio\\workspace\\fhellmann.github.io\\venv\\lib\\site-packages (from retrying->getorg) (1.16.0)\n",
      "Requirement already satisfied: cryptography>=3.4.0 in c:\\users\\fabio\\workspace\\fhellmann.github.io\\venv\\lib\\site-packages (from pyjwt[crypto]>=2.4.0->pygithub->getorg) (41.0.3)\n",
      "Requirement already satisfied: cffi>=1.4.1 in c:\\users\\fabio\\workspace\\fhellmann.github.io\\venv\\lib\\site-packages (from pynacl>=1.4.0->pygithub->getorg) (1.15.1)\n",
      "Requirement already satisfied: charset-normalizer<4,>=2 in c:\\users\\fabio\\workspace\\fhellmann.github.io\\venv\\lib\\site-packages (from requests>=2.14.0->pygithub->getorg) (3.1.0)\n",
      "Requirement already satisfied: urllib3<3,>=1.21.1 in c:\\users\\fabio\\workspace\\fhellmann.github.io\\venv\\lib\\site-packages (from requests>=2.14.0->pygithub->getorg) (2.0.3)\n",
      "Requirement already satisfied: idna<4,>=2.5 in c:\\users\\fabio\\workspace\\fhellmann.github.io\\venv\\lib\\site-packages (from requests>=2.14.0->pygithub->getorg) (3.4)\n",
      "Requirement already satisfied: certifi>=2017.4.17 in c:\\users\\fabio\\workspace\\fhellmann.github.io\\venv\\lib\\site-packages (from requests>=2.14.0->pygithub->getorg) (2023.5.7)\n",
      "Requirement already satisfied: wrapt<2,>=1.10 in c:\\users\\fabio\\workspace\\fhellmann.github.io\\venv\\lib\\site-packages (from deprecated->pygithub->getorg) (1.15.0)\n",
      "Requirement already satisfied: pycparser in c:\\users\\fabio\\workspace\\fhellmann.github.io\\venv\\lib\\site-packages (from cffi>=1.4.1->pynacl>=1.4.0->pygithub->getorg) (2.21)\n"
     ]
    },
    {
     "name": "stderr",
     "output_type": "stream",
     "text": [
      "WARNING: You are using pip version 21.3.1; however, version 23.2.1 is available.\n",
      "You should consider upgrading via the 'C:\\Users\\fabio\\Workspace\\fhellmann.github.io\\venv\\Scripts\\python.exe -m pip install --upgrade pip' command.\n"
     ]
    }
   ],
   "source": [
    "!pip install getorg --upgrade\n",
    "import glob\n",
    "import getorg\n",
    "from geopy import Nominatim"
   ]
  },
  {
   "cell_type": "code",
   "execution_count": 2,
   "metadata": {
    "collapsed": false,
    "ExecuteTime": {
     "end_time": "2023-08-22T11:04:03.147308700Z",
     "start_time": "2023-08-22T11:04:03.111404600Z"
    }
   },
   "outputs": [],
   "source": [
    "g = glob.glob(\"*.md\")"
   ]
  },
  {
   "cell_type": "code",
   "execution_count": 3,
   "metadata": {
    "collapsed": true,
    "ExecuteTime": {
     "end_time": "2023-08-22T11:04:03.749291500Z",
     "start_time": "2023-08-22T11:04:03.122375500Z"
    }
   },
   "outputs": [
    {
     "ename": "ConfigurationError",
     "evalue": "Using Nominatim with default or sample `user_agent` \"geopy/2.3.0\" is strongly discouraged, as it violates Nominatim's ToS https://operations.osmfoundation.org/policies/nominatim/ and may possibly cause 403 and 429 HTTP errors. Please specify a custom `user_agent` with `Nominatim(user_agent=\"my-application\")` or by overriding the default `user_agent`: `geopy.geocoders.options.default_user_agent = \"my-application\"`.",
     "output_type": "error",
     "traceback": [
      "\u001B[1;31m---------------------------------------------------------------------------\u001B[0m",
      "\u001B[1;31mConfigurationError\u001B[0m                        Traceback (most recent call last)",
      "Cell \u001B[1;32mIn[3], line 1\u001B[0m\n\u001B[1;32m----> 1\u001B[0m geocoder \u001B[38;5;241m=\u001B[39m \u001B[43mNominatim\u001B[49m\u001B[43m(\u001B[49m\u001B[43m)\u001B[49m\n\u001B[0;32m      2\u001B[0m location_dict \u001B[38;5;241m=\u001B[39m {}\n\u001B[0;32m      3\u001B[0m location \u001B[38;5;241m=\u001B[39m \u001B[38;5;124m\"\u001B[39m\u001B[38;5;124m\"\u001B[39m\n",
      "File \u001B[1;32m~\\Workspace\\fhellmann.github.io\\venv\\lib\\site-packages\\geopy\\geocoders\\nominatim.py:105\u001B[0m, in \u001B[0;36mNominatim.__init__\u001B[1;34m(self, timeout, proxies, domain, scheme, user_agent, ssl_context, adapter_factory)\u001B[0m\n\u001B[0;32m    101\u001B[0m \u001B[38;5;28mself\u001B[39m\u001B[38;5;241m.\u001B[39mdomain \u001B[38;5;241m=\u001B[39m domain\u001B[38;5;241m.\u001B[39mstrip(\u001B[38;5;124m'\u001B[39m\u001B[38;5;124m/\u001B[39m\u001B[38;5;124m'\u001B[39m)\n\u001B[0;32m    103\u001B[0m \u001B[38;5;28;01mif\u001B[39;00m (\u001B[38;5;28mself\u001B[39m\u001B[38;5;241m.\u001B[39mdomain \u001B[38;5;241m==\u001B[39m _DEFAULT_NOMINATIM_DOMAIN\n\u001B[0;32m    104\u001B[0m         \u001B[38;5;129;01mand\u001B[39;00m \u001B[38;5;28mself\u001B[39m\u001B[38;5;241m.\u001B[39mheaders[\u001B[38;5;124m'\u001B[39m\u001B[38;5;124mUser-Agent\u001B[39m\u001B[38;5;124m'\u001B[39m] \u001B[38;5;129;01min\u001B[39;00m _REJECTED_USER_AGENTS):\n\u001B[1;32m--> 105\u001B[0m     \u001B[38;5;28;01mraise\u001B[39;00m ConfigurationError(\n\u001B[0;32m    106\u001B[0m         \u001B[38;5;124m'\u001B[39m\u001B[38;5;124mUsing Nominatim with default or sample `user_agent` \u001B[39m\u001B[38;5;124m\"\u001B[39m\u001B[38;5;132;01m%s\u001B[39;00m\u001B[38;5;124m\"\u001B[39m\u001B[38;5;124m is \u001B[39m\u001B[38;5;124m'\u001B[39m\n\u001B[0;32m    107\u001B[0m         \u001B[38;5;124m'\u001B[39m\u001B[38;5;124mstrongly discouraged, as it violates Nominatim\u001B[39m\u001B[38;5;130;01m\\'\u001B[39;00m\u001B[38;5;124ms ToS \u001B[39m\u001B[38;5;124m'\u001B[39m\n\u001B[0;32m    108\u001B[0m         \u001B[38;5;124m'\u001B[39m\u001B[38;5;124mhttps://operations.osmfoundation.org/policies/nominatim/ \u001B[39m\u001B[38;5;124m'\u001B[39m\n\u001B[0;32m    109\u001B[0m         \u001B[38;5;124m'\u001B[39m\u001B[38;5;124mand may possibly cause 403 and 429 HTTP errors. \u001B[39m\u001B[38;5;124m'\u001B[39m\n\u001B[0;32m    110\u001B[0m         \u001B[38;5;124m'\u001B[39m\u001B[38;5;124mPlease specify a custom `user_agent` with \u001B[39m\u001B[38;5;124m'\u001B[39m\n\u001B[0;32m    111\u001B[0m         \u001B[38;5;124m'\u001B[39m\u001B[38;5;124m`Nominatim(user_agent=\u001B[39m\u001B[38;5;124m\"\u001B[39m\u001B[38;5;124mmy-application\u001B[39m\u001B[38;5;124m\"\u001B[39m\u001B[38;5;124m)` or by \u001B[39m\u001B[38;5;124m'\u001B[39m\n\u001B[0;32m    112\u001B[0m         \u001B[38;5;124m'\u001B[39m\u001B[38;5;124moverriding the default `user_agent`: \u001B[39m\u001B[38;5;124m'\u001B[39m\n\u001B[0;32m    113\u001B[0m         \u001B[38;5;124m'\u001B[39m\u001B[38;5;124m`geopy.geocoders.options.default_user_agent = \u001B[39m\u001B[38;5;124m\"\u001B[39m\u001B[38;5;124mmy-application\u001B[39m\u001B[38;5;124m\"\u001B[39m\u001B[38;5;124m`.\u001B[39m\u001B[38;5;124m'\u001B[39m\n\u001B[0;32m    114\u001B[0m         \u001B[38;5;241m%\u001B[39m \u001B[38;5;28mself\u001B[39m\u001B[38;5;241m.\u001B[39mheaders[\u001B[38;5;124m'\u001B[39m\u001B[38;5;124mUser-Agent\u001B[39m\u001B[38;5;124m'\u001B[39m]\n\u001B[0;32m    115\u001B[0m     )\n\u001B[0;32m    117\u001B[0m \u001B[38;5;28mself\u001B[39m\u001B[38;5;241m.\u001B[39mapi \u001B[38;5;241m=\u001B[39m \u001B[38;5;124m\"\u001B[39m\u001B[38;5;132;01m%s\u001B[39;00m\u001B[38;5;124m://\u001B[39m\u001B[38;5;132;01m%s\u001B[39;00m\u001B[38;5;132;01m%s\u001B[39;00m\u001B[38;5;124m\"\u001B[39m \u001B[38;5;241m%\u001B[39m (\u001B[38;5;28mself\u001B[39m\u001B[38;5;241m.\u001B[39mscheme, \u001B[38;5;28mself\u001B[39m\u001B[38;5;241m.\u001B[39mdomain, \u001B[38;5;28mself\u001B[39m\u001B[38;5;241m.\u001B[39mgeocode_path)\n\u001B[0;32m    118\u001B[0m \u001B[38;5;28mself\u001B[39m\u001B[38;5;241m.\u001B[39mreverse_api \u001B[38;5;241m=\u001B[39m \u001B[38;5;124m\"\u001B[39m\u001B[38;5;132;01m%s\u001B[39;00m\u001B[38;5;124m://\u001B[39m\u001B[38;5;132;01m%s\u001B[39;00m\u001B[38;5;132;01m%s\u001B[39;00m\u001B[38;5;124m\"\u001B[39m \u001B[38;5;241m%\u001B[39m (\u001B[38;5;28mself\u001B[39m\u001B[38;5;241m.\u001B[39mscheme, \u001B[38;5;28mself\u001B[39m\u001B[38;5;241m.\u001B[39mdomain, \u001B[38;5;28mself\u001B[39m\u001B[38;5;241m.\u001B[39mreverse_path)\n",
      "\u001B[1;31mConfigurationError\u001B[0m: Using Nominatim with default or sample `user_agent` \"geopy/2.3.0\" is strongly discouraged, as it violates Nominatim's ToS https://operations.osmfoundation.org/policies/nominatim/ and may possibly cause 403 and 429 HTTP errors. Please specify a custom `user_agent` with `Nominatim(user_agent=\"my-application\")` or by overriding the default `user_agent`: `geopy.geocoders.options.default_user_agent = \"my-application\"`."
     ]
    }
   ],
   "source": [
    "geocoder = Nominatim()\n",
    "location_dict = {}\n",
    "location = \"\"\n",
    "permalink = \"\"\n",
    "title = \"\""
   ]
  },
  {
   "cell_type": "code",
   "execution_count": null,
   "metadata": {
    "collapsed": false,
    "ExecuteTime": {
     "end_time": "2023-08-22T11:04:03.756271700Z",
     "start_time": "2023-08-22T11:04:03.751284600Z"
    }
   },
   "outputs": [],
   "source": [
    "\n",
    "for file in g:\n",
    "    with open(file, 'r') as f:\n",
    "        lines = f.read()\n",
    "        if lines.find('location: \"') > 1:\n",
    "            loc_start = lines.find('location: \"') + 11\n",
    "            lines_trim = lines[loc_start:]\n",
    "            loc_end = lines_trim.find('\"')\n",
    "            location = lines_trim[:loc_end]\n",
    "                            \n",
    "           \n",
    "        location_dict[location] = geocoder.geocode(location)\n",
    "        print(location, \"\\n\", location_dict[location])\n"
   ]
  },
  {
   "cell_type": "code",
   "execution_count": null,
   "metadata": {
    "collapsed": false,
    "ExecuteTime": {
     "start_time": "2023-08-22T11:04:03.754302800Z"
    }
   },
   "outputs": [],
   "source": [
    "m = getorg.orgmap.create_map_obj()\n",
    "getorg.orgmap.output_html_cluster_map(location_dict, folder_name=\"../talkmap\", hashed_usernames=False)"
   ]
  },
  {
   "cell_type": "code",
   "execution_count": null,
   "metadata": {
    "collapsed": true,
    "ExecuteTime": {
     "end_time": "2023-08-22T11:04:03.757304300Z",
     "start_time": "2023-08-22T11:04:03.757304300Z"
    }
   },
   "outputs": [],
   "source": []
  }
 ],
 "metadata": {
  "anaconda-cloud": {},
  "kernelspec": {
   "name": "python3",
   "language": "python",
   "display_name": "Python 3 (ipykernel)"
  },
  "language_info": {
   "codemirror_mode": {
    "name": "ipython",
    "version": 3
   },
   "file_extension": ".py",
   "mimetype": "text/x-python",
   "name": "python",
   "nbconvert_exporter": "python",
   "pygments_lexer": "ipython3",
   "version": "3.5.2"
  }
 },
 "nbformat": 4,
 "nbformat_minor": 0
}
